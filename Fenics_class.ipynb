{
 "cells": [
  {
   "cell_type": "markdown",
   "metadata": {},
   "source": [
    "# Fenics installation"
   ]
  },
  {
   "cell_type": "markdown",
   "metadata": {},
   "source": [
    "**Step -1: Install Anaconda**\n",
    "\n",
    "Go to https://www.anaconda.com/ and follow the instructions for Mac"
   ]
  },
  {
   "cell_type": "markdown",
   "metadata": {},
   "source": [
    "**Step 0: Create a new environment in conda**\n",
    "\n",
    "`conda create -n myenv python=3.9` (for some reason Mac works with `python=3.8`) (with myenv the name of the environment)"
   ]
  },
  {
   "cell_type": "markdown",
   "metadata": {},
   "source": [
    "**Step 1: Install Fenics and other usefull packages**\n",
    "\n",
    "`conda activate myenv` (activates the created environment)\n",
    "\n",
    "`conda install numpy` (install Numerical computing tools)\n",
    "\n",
    "`conda install -c conda-forge matplotlib` (install library for creating static, animated, and interactive visualizations)\n",
    "\n",
    "`conda install -c anaconda jupyter` (install web services for interactive computing)\n",
    "\n",
    "`conda install -c conda-forge fenics` (install Fenics)\n"
   ]
  },
  {
   "cell_type": "markdown",
   "metadata": {},
   "source": [
    "**Step 2: Open Jupyter Notebook**\n",
    "\n",
    "1. Try:\n",
    "\n",
    "`jupyter notebook`\n",
    "\n",
    "2. If it doesn't work, try: \n",
    "\n",
    "`jupyter notebook --no-browser`\n",
    "\n",
    "3. Check if the environment  appears in the Jupyter's kernel!\n",
    "\n",
    "\n",
    "4. If it doesn't appear, try:\n",
    "\n",
    "`conda install -c anaconda ipykernel`\n",
    "\n",
    "`python -m ipykernel install --user --name=myenv`"
   ]
  },
  {
   "cell_type": "markdown",
   "metadata": {},
   "source": [
    "# Fenics examples"
   ]
  },
  {
   "cell_type": "code",
   "execution_count": 1,
   "metadata": {},
   "outputs": [],
   "source": [
    "import fenics as fn\n",
    "import numpy as np\n",
    "from matplotlib import pyplot as plt"
   ]
  },
  {
   "cell_type": "markdown",
   "metadata": {},
   "source": [
    "## Example 1: 1D Poisson Equation\n",
    "\n",
    "$$-u''(x) = 12x^2 - 6x$$\n",
    "$$u(0) = u(1) = 0.$$"
   ]
  },
  {
   "cell_type": "markdown",
   "metadata": {},
   "source": [
    "**Define FE mesh**"
   ]
  },
  {
   "cell_type": "code",
   "execution_count": 2,
   "metadata": {},
   "outputs": [
    {
     "data": {
      "image/png": "[encoded data removed]",
      "text/plain": [
       "<Figure size 432x288 with 1 Axes>"
      ]
     },
     "metadata": {
      "needs_background": "light"
     },
     "output_type": "display_data"
    }
   ],
   "source": [
    "# Define the mesh\n",
    "Ne = 8 # 4 8 16\n",
    "mesh = fn.IntervalMesh(Ne,0.,1.)\n",
    "# Plot the mesh\n",
    "fn.plot(mesh)\n",
    "plt.show()"
   ]
  },
  {
   "cell_type": "markdown",
   "metadata": {},
   "source": [
    "**Define the FE space**"
   ]
  },
  {
   "cell_type": "code",
   "execution_count": 3,
   "metadata": {},
   "outputs": [],
   "source": [
    "Uh = fn.FunctionSpace(mesh,'CG',1) # (mesh, type of element, and polynomial degree)"
   ]
  },
  {
   "cell_type": "markdown",
   "metadata": {},
   "source": [
    "**Define trial and test functions**"
   ]
  },
  {
   "cell_type": "code",
   "execution_count": 4,
   "metadata": {},
   "outputs": [],
   "source": [
    "uh = fn.TrialFunction(Uh)\n",
    "vh = fn.TestFunction(Uh)"
   ]
  },
  {
   "cell_type": "markdown",
   "metadata": {},
   "source": [
    "**Define rhs & BCs**"
   ]
  },
  {
   "cell_type": "code",
   "execution_count": 5,
   "metadata": {},
   "outputs": [],
   "source": [
    "# RHS function\n",
    "f = fn.Expression('12*pow(x[0],2) - 6*x[0]',degree = 2)\n",
    "# BC function\n",
    "g = fn.Constant(0.0)"
   ]
  },
  {
   "cell_type": "markdown",
   "metadata": {},
   "source": [
    "**Implement BCs**"
   ]
  },
  {
   "cell_type": "code",
   "execution_count": 6,
   "metadata": {},
   "outputs": [],
   "source": [
    "bc1 = fn.DirichletBC(Uh, g, 'x[0] < DOLFIN_EPS')\n",
    "bc2 = fn.DirichletBC(Uh, g, 'abs(x[0] - 1.) < DOLFIN_EPS')"
   ]
  },
  {
   "cell_type": "markdown",
   "metadata": {},
   "source": [
    "**Define bilinear form & RHS**"
   ]
  },
  {
   "cell_type": "code",
   "execution_count": 7,
   "metadata": {},
   "outputs": [],
   "source": [
    "b = fn.dot(fn.grad(uh),fn.grad(vh))*(fn.dx)\n",
    "l = f*vh*(fn.dx)"
   ]
  },
  {
   "cell_type": "markdown",
   "metadata": {},
   "source": [
    "**Solve the linear system**"
   ]
  },
  {
   "cell_type": "code",
   "execution_count": 8,
   "metadata": {},
   "outputs": [
    {
     "name": "stdout",
     "output_type": "stream",
     "text": [
      "Calling FFC just-in-time (JIT) compiler, this may take some time.\n",
      "Calling FFC just-in-time (JIT) compiler, this may take some time.\n",
      "Calling FFC just-in-time (JIT) compiler, this may take some time.\n",
      "Calling FFC just-in-time (JIT) compiler, this may take some time.\n",
      "Calling FFC just-in-time (JIT) compiler, this may take some time.\n",
      "Solving linear variational problem.\n"
     ]
    }
   ],
   "source": [
    "# Define Fenics function to assign the discrete solution\n",
    "uh_sol = fn.Function(Uh)\n",
    "# Solve the linear system\n",
    "fn.solve(b==l, uh_sol, [bc1,bc2])"
   ]
  },
  {
   "cell_type": "markdown",
   "metadata": {},
   "source": [
    "**Analytical sol in numpy**"
   ]
  },
  {
   "cell_type": "code",
   "execution_count": 9,
   "metadata": {},
   "outputs": [],
   "source": [
    "x_vector = np.linspace(0.,1.,100)\n",
    "u_vector = x_vector**3 - x_vector**4"
   ]
  },
  {
   "cell_type": "markdown",
   "metadata": {},
   "source": [
    "**Plotting results**"
   ]
  },
  {
   "cell_type": "code",
   "execution_count": 10,
   "metadata": {},
   "outputs": [
    {
     "data": {
      "image/png": "[encoded data removed]",
      "text/plain": [
       "<Figure size 432x288 with 1 Axes>"
      ]
     },
     "metadata": {
      "needs_background": "light"
     },
     "output_type": "display_data"
    }
   ],
   "source": [
    "fn.plot(uh_sol)\n",
    "plt.plot(x_vector,u_vector)\n",
    "plt.show()"
   ]
  },
  {
   "cell_type": "markdown",
   "metadata": {},
   "source": [
    "## Example 2: 2D Poisson Equation\n",
    "\n",
    "\n",
    "$$-\\Delta u(x,y) = 2\\pi\\sin(\\pi x)\\sin(\\pi y),\\quad \\Omega = [-1,1]\\times[-1,1]$$\n",
    "$$u|_{\\partial  \\Omega} = 1.$$"
   ]
  },
  {
   "cell_type": "code",
   "execution_count": 11,
   "metadata": {},
   "outputs": [
    {
     "data": {
      "image/png": "[encoded data removed]",
      "text/plain": [
       "<Figure size 432x288 with 1 Axes>"
      ]
     },
     "metadata": {
      "needs_background": "light"
     },
     "output_type": "display_data"
    }
   ],
   "source": [
    "# Define the mesh\n",
    "Ne = 16 # 4 8 16\n",
    "mesh = fn.RectangleMesh(fn.Point(-1,-1),fn.Point(1,1),Ne,Ne) #,'crossed')\n",
    "# Plot the mesh\n",
    "fn.plot(mesh)\n",
    "plt.show()"
   ]
  },
  {
   "cell_type": "code",
   "execution_count": 12,
   "metadata": {},
   "outputs": [
    {
     "name": "stdout",
     "output_type": "stream",
     "text": [
      "Calling FFC just-in-time (JIT) compiler, this may take some time.\n",
      "Calling FFC just-in-time (JIT) compiler, this may take some time.\n",
      "Calling FFC just-in-time (JIT) compiler, this may take some time.\n",
      "Calling FFC just-in-time (JIT) compiler, this may take some time.\n",
      "Calling FFC just-in-time (JIT) compiler, this may take some time.\n",
      "Solving linear variational problem.\n"
     ]
    }
   ],
   "source": [
    "# Define the FE space\n",
    "Uh = fn.FunctionSpace(mesh,'CG',1) # (mesh, type of element, and polynomial degree)\n",
    "\n",
    "#Define trial and test functions\n",
    "uh = fn.TrialFunction(Uh)\n",
    "vh = fn.TestFunction(Uh)\n",
    "\n",
    "# RHS function\n",
    "f = fn.Expression('2*pow(pi,2)*sin(pi*x[0])*sin(pi*x[1])',degree = 2)\n",
    "# BC function\n",
    "g = fn.Constant(1.0)\n",
    "\n",
    "# Implement BCs\n",
    "bc = fn.DirichletBC(Uh, g, 'on_boundary')\n",
    "\n",
    "# Define bilinear form & RHS\n",
    "b = fn.dot(fn.grad(uh),fn.grad(vh))*(fn.dx)\n",
    "l = f*vh*(fn.dx)\n",
    "\n",
    "# Define Fenics function to assign the discrete solution\n",
    "uh_sol = fn.Function(Uh)\n",
    "# Solve the linear system\n",
    "fn.solve(b==l, uh_sol, bc)"
   ]
  },
  {
   "cell_type": "code",
   "execution_count": 13,
   "metadata": {},
   "outputs": [
    {
     "data": {
      "image/png": "[encoded data removed]",
      "text/plain": [
       "<Figure size 432x288 with 2 Axes>"
      ]
     },
     "metadata": {
      "needs_background": "light"
     },
     "output_type": "display_data"
    }
   ],
   "source": [
    "c = fn.plot(uh_sol)\n",
    "plt.colorbar(c)\n",
    "plt.show()"
   ]
  },
  {
   "cell_type": "markdown",
   "metadata": {},
   "source": [
    "## Example 3: 1D Advection-Reaction Equation (LSQ method)\n",
    "\n",
    "\n",
    "$$u'(x) + ru(x) = r,\\quad (-1,1)$$\n",
    "$$u(0) = 0.$$"
   ]
  },
  {
   "cell_type": "code",
   "execution_count": 14,
   "metadata": {},
   "outputs": [
    {
     "data": {
      "text/plain": [
       "[<matplotlib.lines.Line2D at 0x7feacf6a6fa0>]"
      ]
     },
     "execution_count": 14,
     "metadata": {},
     "output_type": "execute_result"
    },
    {
     "data": {
      "image/png": "[encoded data removed]",
      "text/plain": [
       "<Figure size 432x288 with 1 Axes>"
      ]
     },
     "metadata": {
      "needs_background": "light"
     },
     "output_type": "display_data"
    }
   ],
   "source": [
    "# Define the mesh\n",
    "Ne = 64 # 4 8 16\n",
    "mesh = fn.IntervalMesh(Ne,0.,1.)\n",
    "#\n",
    "fn.plot(mesh)"
   ]
  },
  {
   "cell_type": "code",
   "execution_count": 15,
   "metadata": {},
   "outputs": [
    {
     "name": "stdout",
     "output_type": "stream",
     "text": [
      "Calling FFC just-in-time (JIT) compiler, this may take some time.\n",
      "Calling FFC just-in-time (JIT) compiler, this may take some time.\n",
      "Calling FFC just-in-time (JIT) compiler, this may take some time.\n",
      "Solving linear variational problem.\n"
     ]
    }
   ],
   "source": [
    "# r parameter\n",
    "r = 40\n",
    "# Define the FE space\n",
    "Uh = fn.FunctionSpace(mesh,'CG',1)\n",
    "\n",
    "#Define trial and test functions\n",
    "uh = fn.TrialFunction(Uh)\n",
    "vh = fn.TestFunction(Uh)\n",
    "\n",
    "# RHS function\n",
    "f = fn.Constant(r)\n",
    "# BC function\n",
    "g = fn.Constant(0.0)\n",
    "\n",
    "# Implement BCs\n",
    "bc = fn.DirichletBC(Uh, g, 'x[0] < DOLFIN_EPS')\n",
    "\n",
    "# Define bilinear form & RHS\n",
    "b = (uh.dx(0) + fn.Constant(r)*uh)*(vh.dx(0) + fn.Constant(r)*vh)*(fn.dx)\n",
    "l = f*(vh.dx(0) + fn.Constant(r)*vh)*(fn.dx)\n",
    "\n",
    "# Define Fenics function to assign the discrete solution\n",
    "uh_sol = fn.Function(Uh)\n",
    "# Solve the linear system\n",
    "fn.solve(b==l, uh_sol, bc)"
   ]
  },
  {
   "cell_type": "code",
   "execution_count": 16,
   "metadata": {},
   "outputs": [
    {
     "data": {
      "image/png": "[encoded data removed]",
      "text/plain": [
       "<Figure size 432x288 with 1 Axes>"
      ]
     },
     "metadata": {
      "needs_background": "light"
     },
     "output_type": "display_data"
    }
   ],
   "source": [
    "fn.plot(uh_sol)\n",
    "plt.show()"
   ]
  },
  {
   "cell_type": "markdown",
   "metadata": {},
   "source": [
    "## Example 4: Mesh refinement"
   ]
  },
  {
   "cell_type": "code",
   "execution_count": 17,
   "metadata": {},
   "outputs": [
    {
     "data": {
      "image/png": "[encoded data removed]",
      "text/plain": [
       "<Figure size 432x288 with 1 Axes>"
      ]
     },
     "metadata": {
      "needs_background": "light"
     },
     "output_type": "display_data"
    }
   ],
   "source": [
    "# Define the mesh\n",
    "Ne = 4 # 4 8 16\n",
    "mesh = fn.UnitSquareMesh(Ne,Ne)\n",
    "fn.plot(mesh)\n",
    "plt.show()"
   ]
  },
  {
   "cell_type": "markdown",
   "metadata": {},
   "source": [
    "**Refinement criteria**"
   ]
  },
  {
   "cell_type": "code",
   "execution_count": 18,
   "metadata": {},
   "outputs": [],
   "source": [
    "# Define Cell markers\n",
    "cell_markers = fn.MeshFunction(\"bool\", mesh, mesh.topology().dim())\n",
    "# Marker criteria\n",
    "for cell in fn.cells(mesh):\n",
    "    if cell.midpoint().x() < 0.5:\n",
    "        cell_markers[cell] = True"
   ]
  },
  {
   "cell_type": "markdown",
   "metadata": {},
   "source": [
    "**Mesh refinement**"
   ]
  },
  {
   "cell_type": "code",
   "execution_count": 19,
   "metadata": {},
   "outputs": [
    {
     "data": {
      "image/png": "[encoded data removed]",
      "text/plain": [
       "<Figure size 432x288 with 1 Axes>"
      ]
     },
     "metadata": {
      "needs_background": "light"
     },
     "output_type": "display_data"
    }
   ],
   "source": [
    "mesh = fn.refine(mesh, cell_markers)\n",
    "fn.plot(mesh)\n",
    "plt.show()"
   ]
  },
  {
   "cell_type": "markdown",
   "metadata": {},
   "source": [
    "**Refinement criteria**"
   ]
  },
  {
   "cell_type": "code",
   "execution_count": 20,
   "metadata": {},
   "outputs": [],
   "source": [
    "# Define Cell markers\n",
    "cell_markers = fn.MeshFunction(\"bool\", mesh, mesh.topology().dim())\n",
    "# Marker criteria\n",
    "for cell in fn.cells(mesh):\n",
    "    if cell.midpoint().x() < 0.25:\n",
    "        cell_markers[cell] = True"
   ]
  },
  {
   "cell_type": "markdown",
   "metadata": {},
   "source": [
    "**Mesh refinement**"
   ]
  },
  {
   "cell_type": "code",
   "execution_count": 21,
   "metadata": {},
   "outputs": [
    {
     "data": {
      "image/png": "[encoded data removed]",
      "text/plain": [
       "<Figure size 432x288 with 1 Axes>"
      ]
     },
     "metadata": {
      "needs_background": "light"
     },
     "output_type": "display_data"
    }
   ],
   "source": [
    "mesh = fn.refine(mesh, cell_markers)\n",
    "fn.plot(mesh)\n",
    "plt.show()"
   ]
  }
 ],
 "metadata": {
  "kernelspec": {
   "display_name": "Python [conda env:fn-tf-linux-env]",
   "language": "python",
   "name": "conda-env-fn-tf-linux-env-py"
  },
  "language_info": {
   "codemirror_mode": {
    "name": "ipython",
    "version": 3
   },
   "file_extension": ".py",
   "mimetype": "text/x-python",
   "name": "python",
   "nbconvert_exporter": "python",
   "pygments_lexer": "ipython3",
   "version": "3.9.13"
  }
 },
 "nbformat": 4,
 "nbformat_minor": 4
}
