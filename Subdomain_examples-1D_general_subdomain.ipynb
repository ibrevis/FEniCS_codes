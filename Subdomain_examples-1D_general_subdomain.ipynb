{
 "cells": [
  {
   "cell_type": "code",
   "execution_count": 1,
   "id": "2857a653",
   "metadata": {},
   "outputs": [],
   "source": [
    "import fenics as fn"
   ]
  },
  {
   "cell_type": "code",
   "execution_count": 2,
   "id": "594ab488",
   "metadata": {},
   "outputs": [],
   "source": [
    "mesh = fn.UnitIntervalMesh(2**6)"
   ]
  },
  {
   "cell_type": "code",
   "execution_count": 3,
   "id": "fb5b1c35",
   "metadata": {},
   "outputs": [],
   "source": [
    "Un = fn.FunctionSpace(mesh,'CG',1)"
   ]
  },
  {
   "cell_type": "code",
   "execution_count": 4,
   "id": "71f17142",
   "metadata": {},
   "outputs": [],
   "source": [
    "tol = 1E-14\n",
    "class Omega0(fn.SubDomain):\n",
    "    def inside(self, x, on_boundary):\n",
    "        #return  x[0] >= 0.0 - tol and x[0] <= 0.5 + tol\n",
    "        return (fn.between(x[0], (0., .5)))"
   ]
  },
  {
   "cell_type": "code",
   "execution_count": 5,
   "id": "1ca4324f",
   "metadata": {},
   "outputs": [],
   "source": [
    "omega0 = Omega0()"
   ]
  },
  {
   "cell_type": "code",
   "execution_count": 6,
   "id": "8993097c",
   "metadata": {},
   "outputs": [],
   "source": [
    "domains = fn.MeshFunction(\"size_t\", mesh, mesh.topology().dim())\n",
    "domains.set_all(0)\n",
    "omega0.mark(domains, 1)  "
   ]
  },
  {
   "cell_type": "code",
   "execution_count": 7,
   "id": "3a14ecde",
   "metadata": {},
   "outputs": [],
   "source": [
    "dx_obs = fn.Measure(\"dx\", domain=mesh, subdomain_data=domains)"
   ]
  },
  {
   "cell_type": "code",
   "execution_count": 8,
   "id": "f4658798",
   "metadata": {},
   "outputs": [],
   "source": [
    "f_exp = fn.Expression('x[0]',degree=1)\n",
    "f = fn.Function(Un)\n",
    "f.interpolate(f_exp)"
   ]
  },
  {
   "cell_type": "markdown",
   "id": "e657aca5",
   "metadata": {},
   "source": [
    "$$\\int_{0}^{1} f(x)\\, dx = \\left.\\frac{1}{2}x^2\\right|_{0}^{1} = \\frac{1}{2}$$"
   ]
  },
  {
   "cell_type": "code",
   "execution_count": 9,
   "id": "2d00f8a9",
   "metadata": {},
   "outputs": [
    {
     "data": {
      "text/plain": [
       "0.5"
      ]
     },
     "execution_count": 9,
     "metadata": {},
     "output_type": "execute_result"
    }
   ],
   "source": [
    "# Integral computed over the whole domain\n",
    "fn.assemble(f*(fn.dx))"
   ]
  },
  {
   "cell_type": "markdown",
   "id": "b2145ebf",
   "metadata": {},
   "source": [
    "$$\\int_{0}^{0.5} f(x)\\, dx = \\left.\\frac{1}{2}x^2\\right|_{0}^{0.5} = \\frac{1}{2}\\left(\\frac{1}{4} - 0\\right) = 0.125$$"
   ]
  },
  {
   "cell_type": "code",
   "execution_count": 10,
   "id": "681fc55d",
   "metadata": {},
   "outputs": [
    {
     "data": {
      "text/plain": [
       "0.125"
      ]
     },
     "execution_count": 10,
     "metadata": {},
     "output_type": "execute_result"
    }
   ],
   "source": [
    "# Integral computed insdide subdomain omega0\n",
    "fn.assemble(f*(dx_obs(1)))"
   ]
  },
  {
   "cell_type": "markdown",
   "id": "9a6f2046",
   "metadata": {},
   "source": [
    "$$\\int_{0.5}^{1} f(x)\\, dx = \\left.\\frac{1}{2}x^2\\right|_{0.5}^{1} = 0.375$$"
   ]
  },
  {
   "cell_type": "code",
   "execution_count": 11,
   "id": "bc61aa0d",
   "metadata": {},
   "outputs": [
    {
     "data": {
      "text/plain": [
       "0.375"
      ]
     },
     "execution_count": 11,
     "metadata": {},
     "output_type": "execute_result"
    }
   ],
   "source": [
    "# Integral computed outside subdomain omega0\n",
    "fn.assemble(f*(dx_obs(0)))"
   ]
  }
 ],
 "metadata": {
  "kernelspec": {
   "display_name": "fn-tf-linux-env",
   "language": "python",
   "name": "fn-tf-linux-env"
  },
  "language_info": {
   "codemirror_mode": {
    "name": "ipython",
    "version": 3
   },
   "file_extension": ".py",
   "mimetype": "text/x-python",
   "name": "python",
   "nbconvert_exporter": "python",
   "pygments_lexer": "ipython3",
   "version": "3.9.13"
  }
 },
 "nbformat": 4,
 "nbformat_minor": 5
}
