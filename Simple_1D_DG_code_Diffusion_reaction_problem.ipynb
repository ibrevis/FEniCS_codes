{
 "cells": [
  {
   "cell_type": "code",
   "execution_count": 1,
   "metadata": {},
   "outputs": [],
   "source": [
    "# FEM package\n",
    "import fenics as fn\n",
    "# \"Numerical\" package\n",
    "import numpy as np\n",
    "# Graphic package\n",
    "from matplotlib import pyplot as plt\n",
    "# Sparse matrix package\n",
    "from scipy import sparse as sp\n",
    "# sparse linear solver (for some reason I cannot call it directly from sp)\n",
    "from scipy.sparse import linalg as splg "
   ]
  },
  {
   "cell_type": "markdown",
   "metadata": {},
   "source": [
    "Problem: Find $u\\in \\mathbb{U}_n$ such that:\n",
    "$$-\\varepsilon \\Delta u + c u = f $$\n",
    "$$u(0) = u(1) = 0$$"
   ]
  },
  {
   "cell_type": "markdown",
   "metadata": {},
   "source": [
    "**Equation's paremeters**"
   ]
  },
  {
   "cell_type": "code",
   "execution_count": 2,
   "metadata": {},
   "outputs": [],
   "source": [
    "# Diffusion's coefficient\n",
    "eps = .01\n",
    "# Reaction's coefficient\n",
    "c = 1.\n",
    "# Boundary conditions\n",
    "g = fn.Constant(0.)\n",
    "# RHS\n",
    "f = fn.Constant(1.)"
   ]
  },
  {
   "cell_type": "markdown",
   "metadata": {},
   "source": [
    "**Mesh definition**"
   ]
  },
  {
   "cell_type": "code",
   "execution_count": 3,
   "metadata": {},
   "outputs": [],
   "source": [
    "# Number of elements\n",
    "Ne = 18\n",
    "# Mesh definition\n",
    "mesh = fn.IntervalMesh(Ne,0,1)"
   ]
  },
  {
   "cell_type": "markdown",
   "metadata": {},
   "source": [
    "**Mesh plot**"
   ]
  },
  {
   "cell_type": "code",
   "execution_count": 4,
   "metadata": {},
   "outputs": [
    {
     "data": {
      "image/png": "[encoded data removed]",
      "text/plain": [
       "<Figure size 432x288 with 1 Axes>"
      ]
     },
     "metadata": {
      "needs_background": "light"
     },
     "output_type": "display_data"
    }
   ],
   "source": [
    "fn.plot(mesh)\n",
    "plt.show()"
   ]
  },
  {
   "cell_type": "markdown",
   "metadata": {},
   "source": [
    "**FE space**"
   ]
  },
  {
   "cell_type": "code",
   "execution_count": 5,
   "metadata": {},
   "outputs": [],
   "source": [
    "Un = fn.FunctionSpace(mesh,'CG',1)"
   ]
  },
  {
   "cell_type": "markdown",
   "metadata": {},
   "source": [
    "**Boundary conditions**"
   ]
  },
  {
   "cell_type": "code",
   "execution_count": 6,
   "metadata": {},
   "outputs": [],
   "source": [
    "bc_n = fn.DirichletBC (Un, g, 'on_boundary')"
   ]
  },
  {
   "cell_type": "markdown",
   "metadata": {},
   "source": [
    "**Trial and test function**"
   ]
  },
  {
   "cell_type": "code",
   "execution_count": 7,
   "metadata": {},
   "outputs": [],
   "source": [
    "# Trial\n",
    "un = fn.TrialFunction(Un)\n",
    "# Test\n",
    "wn = fn.TestFunction(Un)"
   ]
  },
  {
   "cell_type": "markdown",
   "metadata": {},
   "source": [
    "**Variational formulation**\n",
    "$$b(u_n,v_n) := \\varepsilon\\int_{0}^{1} \\nabla u_n \\cdot \\nabla v_n + c\\int_{0}^{1} u_n v_n = \\int_{0}^{1} f v_n =: \\ell(v_n)$$"
   ]
  },
  {
   "cell_type": "code",
   "execution_count": 8,
   "metadata": {},
   "outputs": [],
   "source": [
    "bilinear_form = fn.Constant(eps)*fn.dot(fn.grad(un),fn.grad(wn))*(fn.dx) + fn.Constant(c)*(un*wn)*(fn.dx)\n",
    "linear_rhs = f*wn*(fn.dx)"
   ]
  },
  {
   "cell_type": "markdown",
   "metadata": {},
   "source": [
    "**Matrices assemble**"
   ]
  },
  {
   "cell_type": "code",
   "execution_count": 9,
   "metadata": {},
   "outputs": [],
   "source": [
    "A_dolfin, b_dolfin = fn.assemble_system(bilinear_form,linear_rhs,bc_n)"
   ]
  },
  {
   "cell_type": "markdown",
   "metadata": {},
   "source": [
    "**Converting to numpy arrays**"
   ]
  },
  {
   "cell_type": "code",
   "execution_count": 10,
   "metadata": {},
   "outputs": [],
   "source": [
    "A_numpy = fn.as_backend_type(A_dolfin).mat()[:,:]\n",
    "b_numpy = b_dolfin[:]"
   ]
  },
  {
   "cell_type": "markdown",
   "metadata": {},
   "source": [
    "**Solving linear system**"
   ]
  },
  {
   "cell_type": "code",
   "execution_count": 11,
   "metadata": {},
   "outputs": [],
   "source": [
    "# Defining the discrete solution\n",
    "un_sol1 = fn.Function(Un)\n",
    "# Solving the FEM linear system\n",
    "vec = np.linalg.solve(A_numpy,b_dolfin)\n",
    "#\n",
    "un_sol1.vector()[:] = vec"
   ]
  },
  {
   "cell_type": "markdown",
   "metadata": {},
   "source": [
    "**Solution plot**"
   ]
  },
  {
   "cell_type": "code",
   "execution_count": 12,
   "metadata": {},
   "outputs": [
    {
     "data": {
      "image/png": "[encoded data removed]",
      "text/plain": [
       "<Figure size 432x288 with 1 Axes>"
      ]
     },
     "metadata": {
      "needs_background": "light"
     },
     "output_type": "display_data"
    },
    {
     "name": "stdout",
     "output_type": "stream",
     "text": [
      "coefficient's solution: [0.         0.43043047 0.67553463 0.81506437 0.89441984 0.93942167\n",
      " 0.96471255 0.9785216  0.98534203 0.98739305 0.98534203 0.9785216\n",
      " 0.96471255 0.93942167 0.89441984 0.81506437 0.67553463 0.43043047\n",
      " 0.        ]\n"
     ]
    }
   ],
   "source": [
    "fn.plot(un_sol1)\n",
    "plt.show()\n",
    "print('coefficient\\'s solution:',un_sol1.vector()[:])"
   ]
  },
  {
   "cell_type": "markdown",
   "metadata": {},
   "source": [
    "**Sparse version**"
   ]
  },
  {
   "cell_type": "code",
   "execution_count": 13,
   "metadata": {},
   "outputs": [],
   "source": [
    "A_sparse = sp.csr_matrix(A_numpy) # can I do this better? without passing for a dense matrix?"
   ]
  },
  {
   "cell_type": "code",
   "execution_count": 14,
   "metadata": {},
   "outputs": [],
   "source": [
    "# Defining the discrete solution\n",
    "un_sol2 = fn.Function(Un)\n",
    "# Solving the FEM linear system\n",
    "vec = splg.spsolve(A_sparse,b_dolfin)\n",
    "#\n",
    "un_sol2.vector()[:] = vec"
   ]
  },
  {
   "cell_type": "code",
   "execution_count": 15,
   "metadata": {},
   "outputs": [
    {
     "data": {
      "image/png": "[encoded data removed]",
      "text/plain": [
       "<Figure size 432x288 with 1 Axes>"
      ]
     },
     "metadata": {
      "needs_background": "light"
     },
     "output_type": "display_data"
    },
    {
     "name": "stdout",
     "output_type": "stream",
     "text": [
      "coefficient's solution: [0.         0.43043047 0.67553463 0.81506437 0.89441984 0.93942167\n",
      " 0.96471255 0.9785216  0.98534203 0.98739305 0.98534203 0.9785216\n",
      " 0.96471255 0.93942167 0.89441984 0.81506437 0.67553463 0.43043047\n",
      " 0.        ]\n"
     ]
    }
   ],
   "source": [
    "fn.plot(un_sol2)\n",
    "plt.show()\n",
    "print('coefficient\\'s solution:',un_sol2.vector()[:])"
   ]
  },
  {
   "cell_type": "code",
   "execution_count": null,
   "metadata": {},
   "outputs": [],
   "source": []
  }
 ],
 "metadata": {
  "kernelspec": {
   "display_name": "Python 3",
   "language": "python",
   "name": "python3"
  },
  "language_info": {
   "codemirror_mode": {
    "name": "ipython",
    "version": 3
   },
   "file_extension": ".py",
   "mimetype": "text/x-python",
   "name": "python",
   "nbconvert_exporter": "python",
   "pygments_lexer": "ipython3",
   "version": "3.8.5"
  }
 },
 "nbformat": 4,
 "nbformat_minor": 4
}
