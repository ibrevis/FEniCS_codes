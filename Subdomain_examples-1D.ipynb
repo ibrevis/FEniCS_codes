{
 "cells": [
  {
   "cell_type": "code",
   "execution_count": 1,
   "id": "e911d16b",
   "metadata": {},
   "outputs": [],
   "source": [
    "from fenics import *\n",
    "import numpy as np\n",
    "from matplotlib import pyplot as plt"
   ]
  },
  {
   "cell_type": "code",
   "execution_count": 2,
   "id": "88801c7b",
   "metadata": {},
   "outputs": [],
   "source": [
    "mesh = UnitIntervalMesh(30)"
   ]
  },
  {
   "cell_type": "code",
   "execution_count": 3,
   "id": "743f2f56",
   "metadata": {},
   "outputs": [
    {
     "data": {
      "text/plain": [
       "[<matplotlib.lines.Line2D at 0x7f08593d0820>]"
      ]
     },
     "execution_count": 3,
     "metadata": {},
     "output_type": "execute_result"
    },
    {
     "data": {
      "image/png": "[encoded data removed]",
      "text/plain": [
       "<Figure size 432x288 with 1 Axes>"
      ]
     },
     "metadata": {
      "needs_background": "light"
     },
     "output_type": "display_data"
    }
   ],
   "source": [
    "plot(mesh)"
   ]
  },
  {
   "cell_type": "code",
   "execution_count": 4,
   "id": "2c9adc14",
   "metadata": {},
   "outputs": [],
   "source": [
    "tol = 1E-14\n",
    "subdomain0 = CompiledSubDomain('x[0] <= 0.5 + tol', tol=tol)"
   ]
  },
  {
   "cell_type": "code",
   "execution_count": 5,
   "id": "1150a495",
   "metadata": {},
   "outputs": [],
   "source": [
    "# Create a MeshFunction to mark the subdomain\n",
    "subdomain_marker = MeshFunction(\"size_t\", mesh, mesh.topology().dim())\n",
    "subdomain_marker.set_all(0)  # Initialize the subdomain marker\n",
    "\n",
    "# Mark the cells inside the subdomain with value 1\n",
    "subdomain0.mark(subdomain_marker, 1)"
   ]
  },
  {
   "cell_type": "markdown",
   "id": "bf8bf3a2",
   "metadata": {},
   "source": [
    "$$\\Omega_0 = (0, 0.5)$$"
   ]
  },
  {
   "cell_type": "code",
   "execution_count": 6,
   "id": "f451efb5",
   "metadata": {},
   "outputs": [],
   "source": [
    "# Define the measure over the subdomain\n",
    "dx_subdomain = Measure(\"dx\", mesh, subdomain_data=subdomain_marker)"
   ]
  },
  {
   "cell_type": "code",
   "execution_count": 7,
   "id": "50163d93",
   "metadata": {},
   "outputs": [],
   "source": [
    "Uh = FunctionSpace(mesh,'CG',1)\n",
    "uh = Function(Uh)"
   ]
  },
  {
   "cell_type": "code",
   "execution_count": 8,
   "id": "036985ec",
   "metadata": {},
   "outputs": [],
   "source": [
    "identity = Expression('x[0]',degree=1)\n",
    "uh.assign(identity)"
   ]
  },
  {
   "cell_type": "markdown",
   "id": "362ad69f",
   "metadata": {},
   "source": [
    "whole domain\n",
    "$$\\int_{0}^{1} x\\, dx = \\frac{1}{2} = 0.5$$"
   ]
  },
  {
   "cell_type": "code",
   "execution_count": 9,
   "id": "baf40733",
   "metadata": {},
   "outputs": [
    {
     "data": {
      "text/plain": [
       "0.5"
      ]
     },
     "execution_count": 9,
     "metadata": {},
     "output_type": "execute_result"
    }
   ],
   "source": [
    "assemble(uh*(dx))"
   ]
  },
  {
   "cell_type": "markdown",
   "id": "4819475d",
   "metadata": {},
   "source": [
    "inside the subdomain\n",
    "$$\\int_{0}^{0.5} x\\, dx = \\frac{1}{8} = 0.125$$"
   ]
  },
  {
   "cell_type": "code",
   "execution_count": 10,
   "id": "57fa361a",
   "metadata": {},
   "outputs": [
    {
     "data": {
      "text/plain": [
       "0.12499999999999999"
      ]
     },
     "execution_count": 10,
     "metadata": {},
     "output_type": "execute_result"
    }
   ],
   "source": [
    "assemble(uh*(dx_subdomain(1)))"
   ]
  },
  {
   "cell_type": "markdown",
   "id": "f72802bd",
   "metadata": {},
   "source": [
    "outside the domain\n",
    "$$\\int_{0.5}^{1} x\\, dx = \\frac{3}{8} = 0.375$$"
   ]
  },
  {
   "cell_type": "code",
   "execution_count": 11,
   "id": "4eaba3af",
   "metadata": {},
   "outputs": [
    {
     "data": {
      "text/plain": [
       "0.37500000000000006"
      ]
     },
     "execution_count": 11,
     "metadata": {},
     "output_type": "execute_result"
    }
   ],
   "source": [
    "assemble(uh*(dx_subdomain(0)))"
   ]
  }
 ],
 "metadata": {
  "kernelspec": {
   "display_name": "fn-tf-linux-env",
   "language": "python",
   "name": "fn-tf-linux-env"
  },
  "language_info": {
   "codemirror_mode": {
    "name": "ipython",
    "version": 3
   },
   "file_extension": ".py",
   "mimetype": "text/x-python",
   "name": "python",
   "nbconvert_exporter": "python",
   "pygments_lexer": "ipython3",
   "version": "3.9.13"
  }
 },
 "nbformat": 4,
 "nbformat_minor": 5
}
